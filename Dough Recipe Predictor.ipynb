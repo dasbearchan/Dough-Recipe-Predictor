{
 "cells": [
  {
   "cell_type": "markdown",
   "metadata": {},
   "source": [
    "#### Import packages\n",
    "ref: https://github.com/adashofdata/muffin-cupcake/blob/master/muffin_vs_cupcake_demo.ipynb"
   ]
  },
  {
   "cell_type": "code",
   "execution_count": 465,
   "metadata": {},
   "outputs": [],
   "source": [
    "import pandas as pd\n",
    "import numpy as np\n",
    "import matplotlib.pyplot as plt\n",
    "import seaborn as sns; sns.set(font_scale=1.2)\n",
    "from sklearn import svm\n",
    "from sklearn.model_selection import train_test_split"
   ]
  },
  {
   "cell_type": "markdown",
   "metadata": {},
   "source": [
    "#### Import data"
   ]
  },
  {
   "cell_type": "code",
   "execution_count": 466,
   "metadata": {},
   "outputs": [
    {
     "name": "stdout",
     "output_type": "stream",
     "text": [
      "   Flour   Water  Yeast  Salt   Type                 Source\n",
      "0  480.0  340.50    7.0  12.0  pizza  foodnetwork-bobbyflay\n",
      "1  276.9  170.25    7.0   4.5  pizza           sugarspunrun\n",
      "2  420.0  301.91    7.0   4.5  pizza  sallysbakingaddiction\n",
      "    Flour  Water  Yeast  Salt   Type              Source\n",
      "37  360.0  340.5   6.00   9.0  bread     joyfoodsunshine\n",
      "38  400.0  300.0   1.00   8.0  bread          epicurious\n",
      "39  450.0  340.5   6.75  13.5  bread  olgasflavorfactory\n"
     ]
    }
   ],
   "source": [
    "df = pd.read_csv('dough_comp.csv')\n",
    "print(df.head(3))\n",
    "print(df.tail(3))"
   ]
  },
  {
   "cell_type": "markdown",
   "metadata": {},
   "source": [
    "#### Prepare Data"
   ]
  },
  {
   "cell_type": "code",
   "execution_count": 467,
   "metadata": {},
   "outputs": [
    {
     "data": {
      "text/html": [
       "<div>\n",
       "<style scoped>\n",
       "    .dataframe tbody tr th:only-of-type {\n",
       "        vertical-align: middle;\n",
       "    }\n",
       "\n",
       "    .dataframe tbody tr th {\n",
       "        vertical-align: top;\n",
       "    }\n",
       "\n",
       "    .dataframe thead th {\n",
       "        text-align: right;\n",
       "    }\n",
       "</style>\n",
       "<table border=\"1\" class=\"dataframe\">\n",
       "  <thead>\n",
       "    <tr style=\"text-align: right;\">\n",
       "      <th></th>\n",
       "      <th>Flour</th>\n",
       "      <th>Water</th>\n",
       "      <th>Yeast</th>\n",
       "      <th>Salt</th>\n",
       "      <th>Sum</th>\n",
       "      <th>Type</th>\n",
       "    </tr>\n",
       "  </thead>\n",
       "  <tbody>\n",
       "    <tr>\n",
       "      <th>0</th>\n",
       "      <td>480.0</td>\n",
       "      <td>340.50</td>\n",
       "      <td>7.0</td>\n",
       "      <td>12.0</td>\n",
       "      <td>839.50</td>\n",
       "      <td>pizza</td>\n",
       "    </tr>\n",
       "    <tr>\n",
       "      <th>1</th>\n",
       "      <td>276.9</td>\n",
       "      <td>170.25</td>\n",
       "      <td>7.0</td>\n",
       "      <td>4.5</td>\n",
       "      <td>458.65</td>\n",
       "      <td>pizza</td>\n",
       "    </tr>\n",
       "    <tr>\n",
       "      <th>2</th>\n",
       "      <td>420.0</td>\n",
       "      <td>301.91</td>\n",
       "      <td>7.0</td>\n",
       "      <td>4.5</td>\n",
       "      <td>733.41</td>\n",
       "      <td>pizza</td>\n",
       "    </tr>\n",
       "  </tbody>\n",
       "</table>\n",
       "</div>"
      ],
      "text/plain": [
       "   Flour   Water  Yeast  Salt     Sum   Type\n",
       "0  480.0  340.50    7.0  12.0  839.50  pizza\n",
       "1  276.9  170.25    7.0   4.5  458.65  pizza\n",
       "2  420.0  301.91    7.0   4.5  733.41  pizza"
      ]
     },
     "execution_count": 467,
     "metadata": {},
     "output_type": "execute_result"
    }
   ],
   "source": [
    "# Drop unecessary column\n",
    "recipes = df.drop('Source', axis=1)\n",
    "\n",
    "# Sum of ingredients by weight\n",
    "recipes['Sum'] = recipes['Flour'] + recipes['Water'] + recipes['Yeast'] + recipes['Salt']\n",
    "recipes = recipes.reindex(columns=['Flour','Water','Yeast','Salt','Sum','Type'])\n",
    "recipes.head(3)"
   ]
  },
  {
   "cell_type": "code",
   "execution_count": 468,
   "metadata": {},
   "outputs": [
    {
     "name": "stdout",
     "output_type": "stream",
     "text": [
      "   Flour  Water  Yeast  Salt   Type\n",
      "0  57.18  40.56   0.83  1.43  pizza\n",
      "1  60.37  37.12   1.53  0.98  pizza\n",
      "2  57.27  41.17   0.95  0.61  pizza\n",
      "   Water  Yeast  Salt   Type\n",
      "0  70.94   1.46  2.50  pizza\n",
      "1  61.48   2.53  1.63  pizza\n",
      "2  71.88   1.67  1.07  pizza\n"
     ]
    }
   ],
   "source": [
    "# Convert quantity of ingredients based on two options\n",
    "# 1: regular percentage (p), 2: baker's percentage (bp)\n",
    "recipes_p = recipes.copy()\n",
    "recipes_bp = recipes.copy()\n",
    "\n",
    "for i in range(4):\n",
    "    recipes_p.iloc[:,i] = round(recipes_p.iloc[:,i] / recipes['Sum'] * 100, 2)\n",
    "    recipes_bp.iloc[:,i] = round(recipes_bp.iloc[:,i] / recipes['Flour'] * 100, 2)\n",
    "\n",
    "# Drop unecessary calculation columns\n",
    "# For baker's percentage, flour is always 100%\n",
    "recipes_p.drop('Sum', axis=1, inplace=True)\n",
    "recipes_bp.drop(['Flour','Sum'], axis=1, inplace=True)\n",
    "\n",
    "print(recipes_p.head(3))\n",
    "print(recipes_bp.head(3))"
   ]
  },
  {
   "cell_type": "markdown",
   "metadata": {},
   "source": [
    "#### Data Observation"
   ]
  },
  {
   "cell_type": "code",
   "execution_count": 469,
   "metadata": {},
   "outputs": [
    {
     "data": {
      "text/html": [
       "<div>\n",
       "<style scoped>\n",
       "    .dataframe tbody tr th:only-of-type {\n",
       "        vertical-align: middle;\n",
       "    }\n",
       "\n",
       "    .dataframe tbody tr th {\n",
       "        vertical-align: top;\n",
       "    }\n",
       "\n",
       "    .dataframe thead th {\n",
       "        text-align: right;\n",
       "    }\n",
       "</style>\n",
       "<table border=\"1\" class=\"dataframe\">\n",
       "  <thead>\n",
       "    <tr style=\"text-align: right;\">\n",
       "      <th></th>\n",
       "      <th>Flour</th>\n",
       "      <th>Water</th>\n",
       "      <th>Yeast</th>\n",
       "      <th>Salt</th>\n",
       "    </tr>\n",
       "  </thead>\n",
       "  <tbody>\n",
       "    <tr>\n",
       "      <th>min pizza</th>\n",
       "      <td>54.16</td>\n",
       "      <td>34.71</td>\n",
       "      <td>0.09</td>\n",
       "      <td>0.61</td>\n",
       "    </tr>\n",
       "    <tr>\n",
       "      <th>max pizza</th>\n",
       "      <td>63.64</td>\n",
       "      <td>43.91</td>\n",
       "      <td>1.66</td>\n",
       "      <td>1.58</td>\n",
       "    </tr>\n",
       "    <tr>\n",
       "      <th>min bread</th>\n",
       "      <td>50.31</td>\n",
       "      <td>40.58</td>\n",
       "      <td>0.11</td>\n",
       "      <td>0.43</td>\n",
       "    </tr>\n",
       "    <tr>\n",
       "      <th>max bread</th>\n",
       "      <td>57.97</td>\n",
       "      <td>48.35</td>\n",
       "      <td>0.87</td>\n",
       "      <td>1.68</td>\n",
       "    </tr>\n",
       "  </tbody>\n",
       "</table>\n",
       "</div>"
      ],
      "text/plain": [
       "           Flour  Water  Yeast  Salt\n",
       "min pizza  54.16  34.71   0.09  0.61\n",
       "max pizza  63.64  43.91   1.66  1.58\n",
       "min bread  50.31  40.58   0.11  0.43\n",
       "max bread  57.97  48.35   0.87  1.68"
      ]
     },
     "execution_count": 469,
     "metadata": {},
     "output_type": "execute_result"
    }
   ],
   "source": [
    "df_observe = pd.DataFrame([recipes_p[recipes_p['Type'] == 'pizza'].min()])\n",
    "df_observe = df_observe.append([recipes_p[recipes_p['Type'] == 'pizza'].max()])\n",
    "df_observe = df_observe.append([recipes_p[recipes_p['Type'] == 'bread'].min()])\n",
    "df_observe = df_observe.append([recipes_p[recipes_p['Type'] == 'bread'].max()])\n",
    "df_observe.index = ['min pizza', 'max pizza', 'min bread', 'max bread']\n",
    "df_observe.drop('Type', axis=1, inplace=True)\n",
    "df_observe"
   ]
  },
  {
   "cell_type": "code",
   "execution_count": 360,
   "metadata": {},
   "outputs": [
    {
     "data": {
      "image/png": "[encoded data removed]",
      "text/plain": [
       "<Figure size 936x360 with 4 Axes>"
      ]
     },
     "metadata": {},
     "output_type": "display_data"
    }
   ],
   "source": [
    "# Boxplot comparing ingredient percentages\n",
    "fig, axs = plt.subplots(ncols=4, sharex=True, figsize=(13,5))\n",
    "fig.ylabel ='%'\n",
    "\n",
    "sns.boxplot(x=\"Type\", y=\"Flour\", data=recipes_p, palette='GnBu_r', width=0.25, \n",
    "            ax=axs[0]).set(xlabel='Flour', ylabel='%', xticklabels=[])\n",
    "sns.boxplot(x=\"Type\", y=\"Water\", data=recipes_p, palette='GnBu_r', width=0.25, \n",
    "            ax=axs[1]).set(xlabel='Water', ylabel=None, xticklabels=[])\n",
    "sns.boxplot(x=\"Type\", y=\"Yeast\", data=recipes_p, palette='GnBu_r', width=0.25, \n",
    "            ax=axs[2]).set(xlabel='Yeast', ylabel=None)\n",
    "sns.boxplot(x=\"Type\", y=\"Salt\", data=recipes_p, palette='GnBu_r', width=0.25, \n",
    "            ax=axs[3]).set(xlabel='Salt', ylabel=None)\n",
    "# axs[0].set_xticklabels([None, None])\n",
    "plt.show()"
   ]
  },
  {
   "cell_type": "code",
   "execution_count": 470,
   "metadata": {},
   "outputs": [
    {
     "data": {
      "image/png": "[encoded data removed]",
      "text/plain": [
       "<Figure size 441.52x360 with 1 Axes>"
      ]
     },
     "metadata": {},
     "output_type": "display_data"
    }
   ],
   "source": [
    "# Visualize the most stark difference: flour and water ratio\n",
    "sns.lmplot(x='Water', y='Flour', data=recipes_p, hue='Type',\n",
    "           palette='GnBu_r', fit_reg=False, scatter_kws={\"s\": 70});"
   ]
  },
  {
   "cell_type": "markdown",
   "metadata": {},
   "source": [
    "#### SVM on Flour and Water"
   ]
  },
  {
   "cell_type": "code",
   "execution_count": 471,
   "metadata": {},
   "outputs": [
    {
     "data": {
      "text/plain": [
       "array([1, 1, 1, 1, 1, 1, 1, 1, 1, 1, 1, 1, 1, 1, 1, 1, 1, 1, 1, 1, 0, 0,\n",
       "       0, 0, 0, 0, 0, 0, 0, 0, 0, 0, 0, 0, 0, 0, 0, 0, 0, 0])"
      ]
     },
     "execution_count": 471,
     "metadata": {},
     "output_type": "execute_result"
    }
   ],
   "source": [
    "# Specify inputs for the model\n",
    "ingredients = recipes_p[['Flour','Water']].to_numpy()\n",
    "type_label = np.where(recipes_p['Type']=='bread', 0, 1)\n",
    "\n",
    "type_label"
   ]
  },
  {
   "cell_type": "code",
   "execution_count": 472,
   "metadata": {},
   "outputs": [
    {
     "data": {
      "text/plain": [
       "SVC(kernel='linear')"
      ]
     },
     "execution_count": 472,
     "metadata": {},
     "output_type": "execute_result"
    }
   ],
   "source": [
    "# Fit the SVM model\n",
    "model = svm.SVC(kernel='linear')\n",
    "model.fit(ingredients, type_label)"
   ]
  },
  {
   "cell_type": "code",
   "execution_count": 473,
   "metadata": {},
   "outputs": [
    {
     "data": {
      "image/png": "[encoded data removed]",
      "text/plain": [
       "<Figure size 441.52x360 with 1 Axes>"
      ]
     },
     "metadata": {},
     "output_type": "display_data"
    }
   ],
   "source": [
    "# Get the separating hyperplane\n",
    "w = model.coef_[0]\n",
    "a = -w[0] / w[1]\n",
    "xx = np.linspace(30, 60)\n",
    "yy = a * xx - (model.intercept_[0]) / w[1]\n",
    "\n",
    "# Plot the hyperplane\n",
    "sns.lmplot(x='Flour', y='Water', data=recipes_p, hue='Type', palette='GnBu_r', fit_reg=False, scatter_kws={\"s\": 70})\n",
    "plt.plot(xx, yy, linewidth=2, color='black')\n",
    "plt.plot(60, 40, 'yo', markersize='9')\n",
    "plt.show()"
   ]
  },
  {
   "cell_type": "code",
   "execution_count": 474,
   "metadata": {},
   "outputs": [],
   "source": [
    "# Create a function to guess when a recipe is for bread dough or pizza dough\n",
    "def bread_or_pizza(flour, water):\n",
    "    if(model.predict([[flour, water]]))==0:\n",
    "        print('You\\'re looking at a bread dough recipe!')\n",
    "    else:\n",
    "        print('You\\'re looking at a pizza dough recipe!')"
   ]
  },
  {
   "cell_type": "code",
   "execution_count": 475,
   "metadata": {},
   "outputs": [
    {
     "name": "stdout",
     "output_type": "stream",
     "text": [
      "You're looking at a pizza dough recipe!\n"
     ]
    }
   ],
   "source": [
    "# Predict if 60 parts flour and 40 parts water\n",
    "bread_or_pizza(60, 40)"
   ]
  },
  {
   "cell_type": "markdown",
   "metadata": {},
   "source": [
    "#### SVM on all ingredients"
   ]
  },
  {
   "cell_type": "code",
   "execution_count": 476,
   "metadata": {},
   "outputs": [
    {
     "name": "stdout",
     "output_type": "stream",
     "text": [
      "26 14\n"
     ]
    }
   ],
   "source": [
    "train, test = train_test_split(recipes_p, test_size=0.33, random_state=42)\n",
    "\n",
    "train_x = train.loc[:,'Flour':'Salt']\n",
    "train_y = train['Type']\n",
    "test_x = test.loc[:,'Flour':'Salt']\n",
    "test_y = test['Type']\n",
    "\n",
    "print(len(train_x), len(test_x))"
   ]
  },
  {
   "cell_type": "code",
   "execution_count": 477,
   "metadata": {},
   "outputs": [
    {
     "name": "stdout",
     "output_type": "stream",
     "text": [
      "['pizza']\n",
      "pizza\n"
     ]
    }
   ],
   "source": [
    "# Fit the SVM model\n",
    "model = svm.SVC(kernel='linear')\n",
    "model.fit(train_x, train_y)\n",
    "\n",
    "# Testing a sample\n",
    "print(model.predict([test_x.iloc[1]]))\n",
    "print(test_y.iloc[1])"
   ]
  },
  {
   "cell_type": "markdown",
   "metadata": {},
   "source": [
    "#### Evaluation"
   ]
  },
  {
   "cell_type": "code",
   "execution_count": 478,
   "metadata": {},
   "outputs": [
    {
     "name": "stdout",
     "output_type": "stream",
     "text": [
      "0.7142857142857143\n",
      "[0.71428571 0.71428571]\n"
     ]
    }
   ],
   "source": [
    "from sklearn.metrics import f1_score\n",
    "\n",
    "print(model.score(test_x, test_y))\n",
    "print(f1_score(test_y, model.predict(test_x), average=None, labels=['bread', 'pizza']))"
   ]
  },
  {
   "cell_type": "code",
   "execution_count": 479,
   "metadata": {},
   "outputs": [
    {
     "data": {
      "text/plain": [
       "GridSearchCV(cv=5, estimator=SVC(),\n",
       "             param_grid={'C': (1, 4, 8, 16, 32), 'kernel': ('linear', 'rbf')})"
      ]
     },
     "execution_count": 479,
     "metadata": {},
     "output_type": "execute_result"
    }
   ],
   "source": [
    "# Testing for improvement with a GridSearch\n",
    "from sklearn.model_selection import GridSearchCV\n",
    "\n",
    "parameters = {'kernel': ('linear', 'rbf'), 'C': (1,4,8,16,32)}\n",
    "\n",
    "model = GridSearchCV(svm.SVC(), parameters, cv=5)\n",
    "model.fit(train_x, train_y)"
   ]
  },
  {
   "cell_type": "code",
   "execution_count": 480,
   "metadata": {},
   "outputs": [
    {
     "name": "stdout",
     "output_type": "stream",
     "text": [
      "0.7142857142857143\n",
      "[0.71428571 0.71428571]\n"
     ]
    }
   ],
   "source": [
    "print(model.score(test_x, test_y))\n",
    "print(f1_score(test_y, model.predict(test_x), average=None, labels=['bread', 'pizza']))"
   ]
  },
  {
   "cell_type": "code",
   "execution_count": null,
   "metadata": {},
   "outputs": [],
   "source": []
  }
 ],
 "metadata": {
  "kernelspec": {
   "display_name": "Python 3",
   "language": "python",
   "name": "python3"
  },
  "language_info": {
   "codemirror_mode": {
    "name": "ipython",
    "version": 3
   },
   "file_extension": ".py",
   "mimetype": "text/x-python",
   "name": "python",
   "nbconvert_exporter": "python",
   "pygments_lexer": "ipython3",
   "version": "3.8.5"
  }
 },
 "nbformat": 4,
 "nbformat_minor": 4
}
